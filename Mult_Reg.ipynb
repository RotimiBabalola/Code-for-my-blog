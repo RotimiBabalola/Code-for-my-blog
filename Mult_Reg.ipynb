{
 "cells": [
  {
   "cell_type": "code",
   "execution_count": 1,
   "metadata": {
    "collapsed": false
   },
   "outputs": [
    {
     "name": "stdout",
     "output_type": "stream",
     "text": [
      "C:\\Users\\Rolex James\\Documents\\Blog posts\n"
     ]
    }
   ],
   "source": [
    "cd 'C:\\Users\\Rolex James\\Documents\\Blog posts'"
   ]
  },
  {
   "cell_type": "code",
   "execution_count": 2,
   "metadata": {
    "collapsed": false
   },
   "outputs": [],
   "source": [
    "#To use a libary in Python, we use the 'import' statement \n",
    "import pandas as pd #This syntax allows us to use pd instead of pandas for the rest of program\n",
    "import statsmodels.api as sm #Same as the previous line\n",
    "import numpy as np, statsmodels.formula.api as smf"
   ]
  },
  {
   "cell_type": "code",
   "execution_count": 3,
   "metadata": {
    "collapsed": false
   },
   "outputs": [],
   "source": [
    "#Load the dataset using pandas' read_csv function\n",
    "data = pd.read_csv('kc_house_train_data.csv')"
   ]
  },
  {
   "cell_type": "code",
   "execution_count": 4,
   "metadata": {
    "collapsed": false
   },
   "outputs": [
    {
     "data": {
      "text/plain": [
       "Index([u'id', u'date', u'price', u'bedrooms', u'bathrooms', u'sqft_living',\n",
       "       u'sqft_lot', u'floors', u'waterfront', u'view', u'condition', u'grade',\n",
       "       u'sqft_above', u'sqft_basement', u'yr_built', u'yr_renovated',\n",
       "       u'zipcode', u'lat', u'long', u'sqft_living15', u'sqft_lot15'],\n",
       "      dtype='object')"
      ]
     },
     "execution_count": 4,
     "metadata": {},
     "output_type": "execute_result"
    }
   ],
   "source": [
    "data.columns"
   ]
  },
  {
   "cell_type": "code",
   "execution_count": 5,
   "metadata": {
    "collapsed": false
   },
   "outputs": [
    {
     "name": "stdout",
     "output_type": "stream",
     "text": [
      "           id             date   price  bedrooms  bathrooms  sqft_living  \\\n",
      "0  7129300520  20141013T000000  221900         3       1.00         1180   \n",
      "1  6414100192  20141209T000000  538000         3       2.25         2570   \n",
      "2  5631500400  20150225T000000  180000         2       1.00          770   \n",
      "3  2487200875  20141209T000000  604000         4       3.00         1960   \n",
      "4  1954400510  20150218T000000  510000         3       2.00         1680   \n",
      "\n",
      "   sqft_lot  floors  waterfront  view     ...      grade  sqft_above  \\\n",
      "0      5650       1           0     0     ...          7        1180   \n",
      "1      7242       2           0     0     ...          7        2170   \n",
      "2     10000       1           0     0     ...          6         770   \n",
      "3      5000       1           0     0     ...          7        1050   \n",
      "4      8080       1           0     0     ...          8        1680   \n",
      "\n",
      "   sqft_basement  yr_built  yr_renovated  zipcode      lat     long  \\\n",
      "0              0      1955             0    98178  47.5112 -122.257   \n",
      "1            400      1951          1991    98125  47.7210 -122.319   \n",
      "2              0      1933             0    98028  47.7379 -122.233   \n",
      "3            910      1965             0    98136  47.5208 -122.393   \n",
      "4              0      1987             0    98074  47.6168 -122.045   \n",
      "\n",
      "   sqft_living15  sqft_lot15  \n",
      "0           1340        5650  \n",
      "1           1690        7639  \n",
      "2           2720        8062  \n",
      "3           1360        5000  \n",
      "4           1800        7503  \n",
      "\n",
      "[5 rows x 21 columns]\n"
     ]
    }
   ],
   "source": [
    "print data.head()"
   ]
  },
  {
   "cell_type": "code",
   "execution_count": 6,
   "metadata": {
    "collapsed": false
   },
   "outputs": [
    {
     "name": "stdout",
     "output_type": "stream",
     "text": [
      "(17384, 21)\n"
     ]
    }
   ],
   "source": [
    "print data.shape"
   ]
  },
  {
   "cell_type": "markdown",
   "metadata": {},
   "source": [
    "### We add columns (or features) that may help our prediction"
   ]
  },
  {
   "cell_type": "code",
   "execution_count": 7,
   "metadata": {
    "collapsed": false
   },
   "outputs": [],
   "source": [
    "data['bed_bath_rooms'] = data['bedrooms'] * data['bathrooms']\n",
    "data['bedrooms_squared'] = data['bedrooms'] * data['bedrooms']\n",
    "data['log_sqft_living'] = np.log(data['sqft_living'])"
   ]
  },
  {
   "cell_type": "code",
   "execution_count": 8,
   "metadata": {
    "collapsed": false
   },
   "outputs": [
    {
     "name": "stdout",
     "output_type": "stream",
     "text": [
      "(17384, 24)\n",
      "\n",
      "           id             date   price  bedrooms  bathrooms  sqft_living  \\\n",
      "0  7129300520  20141013T000000  221900         3       1.00         1180   \n",
      "1  6414100192  20141209T000000  538000         3       2.25         2570   \n",
      "2  5631500400  20150225T000000  180000         2       1.00          770   \n",
      "3  2487200875  20141209T000000  604000         4       3.00         1960   \n",
      "4  1954400510  20150218T000000  510000         3       2.00         1680   \n",
      "\n",
      "   sqft_lot  floors  waterfront  view       ...         yr_built  \\\n",
      "0      5650       1           0     0       ...             1955   \n",
      "1      7242       2           0     0       ...             1951   \n",
      "2     10000       1           0     0       ...             1933   \n",
      "3      5000       1           0     0       ...             1965   \n",
      "4      8080       1           0     0       ...             1987   \n",
      "\n",
      "   yr_renovated  zipcode      lat     long  sqft_living15  sqft_lot15  \\\n",
      "0             0    98178  47.5112 -122.257           1340        5650   \n",
      "1          1991    98125  47.7210 -122.319           1690        7639   \n",
      "2             0    98028  47.7379 -122.233           2720        8062   \n",
      "3             0    98136  47.5208 -122.393           1360        5000   \n",
      "4             0    98074  47.6168 -122.045           1800        7503   \n",
      "\n",
      "   bed_bath_rooms  bedrooms_squared  log_sqft_living  \n",
      "0            3.00                 9         7.073270  \n",
      "1            6.75                 9         7.851661  \n",
      "2            2.00                 4         6.646391  \n",
      "3           12.00                16         7.580700  \n",
      "4            6.00                 9         7.426549  \n",
      "\n",
      "[5 rows x 24 columns]\n"
     ]
    }
   ],
   "source": [
    "print data.shape\n",
    "print\n",
    "print data.head()"
   ]
  },
  {
   "cell_type": "markdown",
   "metadata": {},
   "source": [
    "# Performing Multiple Linear Regression"
   ]
  },
  {
   "cell_type": "code",
   "execution_count": 9,
   "metadata": {
    "collapsed": false
   },
   "outputs": [
    {
     "name": "stdout",
     "output_type": "stream",
     "text": [
      "                            OLS Regression Results                            \n",
      "==============================================================================\n",
      "Dep. Variable:                  price   R-squared:                       0.544\n",
      "Model:                            OLS   Adj. R-squared:                  0.544\n",
      "Method:                 Least Squares   F-statistic:                     2962.\n",
      "Date:                Tue, 23 Feb 2016   Prob (F-statistic):               0.00\n",
      "Time:                        09:26:56   Log-Likelihood:            -2.4071e+05\n",
      "No. Observations:               17384   AIC:                         4.814e+05\n",
      "Df Residuals:                   17376   BIC:                         4.815e+05\n",
      "Df Model:                           7                                         \n",
      "Covariance Type:            nonrobust                                         \n",
      "====================================================================================\n",
      "                       coef    std err          t      P>|t|      [95.0% Conf. Int.]\n",
      "------------------------------------------------------------------------------------\n",
      "Intercept        -1.712e+06   5.29e+04    -32.389      0.000     -1.82e+06 -1.61e+06\n",
      "bed_bath_rooms    2.014e+04   1031.724     19.516      0.000      1.81e+04  2.22e+04\n",
      "log_sqft_living     1.2e+05   8524.028     14.082      0.000      1.03e+05  1.37e+05\n",
      "condition         5.924e+04   3047.348     19.439      0.000      5.33e+04  6.52e+04\n",
      "grade              1.44e+05   2638.114     54.585      0.000      1.39e+05  1.49e+05\n",
      "floors           -3.707e+04   4193.186     -8.840      0.000     -4.53e+04 -2.88e+04\n",
      "bedrooms_squared -6461.4778    516.614    -12.507      0.000     -7474.093 -5448.863\n",
      "view              1.025e+05   2580.834     39.721      0.000      9.75e+04  1.08e+05\n",
      "==============================================================================\n",
      "Omnibus:                    15124.972   Durbin-Watson:                   1.990\n",
      "Prob(Omnibus):                  0.000   Jarque-Bera (JB):          1459481.976\n",
      "Skew:                           3.722   Prob(JB):                         0.00\n",
      "Kurtosis:                      47.266   Cond. No.                         548.\n",
      "==============================================================================\n",
      "\n",
      "Warnings:\n",
      "[1] Standard Errors assume that the covariance matrix of the errors is correctly specified.\n"
     ]
    }
   ],
   "source": [
    "#Remember to explain choice of predictors in blog post\n",
    "model = smf.ols('price ~ bed_bath_rooms + log_sqft_living +condition + grade + floors + bedrooms_squared + view', \n",
    "                data=data).fit()\n",
    "print model.summary()"
   ]
  },
  {
   "cell_type": "markdown",
   "metadata": {},
   "source": [
    "# Let's make predictions!"
   ]
  },
  {
   "cell_type": "code",
   "execution_count": 10,
   "metadata": {
    "collapsed": false
   },
   "outputs": [],
   "source": [
    "#First load the test dataset\n",
    "test_data = pd.read_csv('kc_house_test_data.csv')"
   ]
  },
  {
   "cell_type": "code",
   "execution_count": 11,
   "metadata": {
    "collapsed": false
   },
   "outputs": [],
   "source": [
    "#Add the bed*bath column to the test data\n",
    "test_data['bed_bath_rooms'] = test_data['bedrooms'] * test_data['bathrooms']\n",
    "test_data['bedrooms_squared'] = test_data['bedrooms'] * data['bedrooms']\n",
    "test_data['log_sqft_living'] = np.log(test_data['sqft_living'])"
   ]
  },
  {
   "cell_type": "code",
   "execution_count": 12,
   "metadata": {
    "collapsed": false
   },
   "outputs": [],
   "source": [
    "predictions = model.predict(test_data)"
   ]
  },
  {
   "cell_type": "code",
   "execution_count": 13,
   "metadata": {
    "collapsed": false
   },
   "outputs": [
    {
     "data": {
      "text/plain": [
       "351302.45181581948"
      ]
     },
     "execution_count": 13,
     "metadata": {},
     "output_type": "execute_result"
    }
   ],
   "source": [
    "predictions[0]"
   ]
  },
  {
   "cell_type": "code",
   "execution_count": 14,
   "metadata": {
    "collapsed": false
   },
   "outputs": [
    {
     "name": "stdout",
     "output_type": "stream",
     "text": [
      "1.08325380553e+15\n"
     ]
    }
   ],
   "source": [
    "foo = np.square(model.resid)\n",
    "print np.sum(foo)"
   ]
  },
  {
   "cell_type": "code",
   "execution_count": 15,
   "metadata": {
    "collapsed": false
   },
   "outputs": [
    {
     "name": "stdout",
     "output_type": "stream",
     "text": [
      "2.44587443952e+14\n"
     ]
    }
   ],
   "source": [
    "#Compute RSS on test data\n",
    "diff = predictions - test_data['price']\n",
    "sqDiff = np.square(diff)\n",
    "RSS = np.sum(sqDiff)\n",
    "print RSS"
   ]
  },
  {
   "cell_type": "code",
   "execution_count": null,
   "metadata": {
    "collapsed": false
   },
   "outputs": [],
   "source": []
  }
 ],
 "metadata": {
  "kernelspec": {
   "display_name": "Python 2",
   "language": "python",
   "name": "python2"
  },
  "language_info": {
   "codemirror_mode": {
    "name": "ipython",
    "version": 2
   },
   "file_extension": ".py",
   "mimetype": "text/x-python",
   "name": "python",
   "nbconvert_exporter": "python",
   "pygments_lexer": "ipython2",
   "version": "2.7.11"
  }
 },
 "nbformat": 4,
 "nbformat_minor": 0
}
