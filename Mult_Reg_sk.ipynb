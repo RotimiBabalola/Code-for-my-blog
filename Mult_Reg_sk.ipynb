{
 "metadata": {
  "name": "",
  "signature": "sha256:458479f2a5c1fe2b3fe0dcbaa51195050552b1b3c08e86bb9287230b13646035"
 },
 "nbformat": 3,
 "nbformat_minor": 0,
 "worksheets": [
  {
   "cells": [
    {
     "cell_type": "code",
     "collapsed": false,
     "input": [
      "cd 'C:\\Users\\Rolex James\\Documents\\Blog posts'"
     ],
     "language": "python",
     "metadata": {},
     "outputs": [
      {
       "output_type": "stream",
       "stream": "stdout",
       "text": [
        "C:\\Users\\Rolex James\\Documents\\Blog posts\n"
       ]
      }
     ],
     "prompt_number": 1
    },
    {
     "cell_type": "code",
     "collapsed": false,
     "input": [
      "from pandas import Series, DataFrame\n",
      "import pandas as pd\n",
      "import numpy as np"
     ],
     "language": "python",
     "metadata": {},
     "outputs": [],
     "prompt_number": 2
    },
    {
     "cell_type": "code",
     "collapsed": false,
     "input": [
      "from sklearn.linear_model import LinearRegression"
     ],
     "language": "python",
     "metadata": {},
     "outputs": [],
     "prompt_number": 3
    },
    {
     "cell_type": "code",
     "collapsed": false,
     "input": [
      "data = pd.read_csv('kc_house_train_data.csv')"
     ],
     "language": "python",
     "metadata": {},
     "outputs": [],
     "prompt_number": 4
    },
    {
     "cell_type": "code",
     "collapsed": false,
     "input": [
      "print data.columns"
     ],
     "language": "python",
     "metadata": {},
     "outputs": [
      {
       "output_type": "stream",
       "stream": "stdout",
       "text": [
        "Index([u'id', u'date', u'price', u'bedrooms', u'bathrooms', u'sqft_living',\n",
        "       u'sqft_lot', u'floors', u'waterfront', u'view', u'condition', u'grade',\n",
        "       u'sqft_above', u'sqft_basement', u'yr_built', u'yr_renovated',\n",
        "       u'zipcode', u'lat', u'long', u'sqft_living15', u'sqft_lot15'],\n",
        "      dtype='object')\n"
       ]
      }
     ],
     "prompt_number": 5
    },
    {
     "cell_type": "code",
     "collapsed": false,
     "input": [
      "print data.head(10)"
     ],
     "language": "python",
     "metadata": {},
     "outputs": [
      {
       "output_type": "stream",
       "stream": "stdout",
       "text": [
        "           id             date    price  bedrooms  bathrooms  sqft_living  \\\n",
        "0  7129300520  20141013T000000   221900         3       1.00         1180   \n",
        "1  6414100192  20141209T000000   538000         3       2.25         2570   \n",
        "2  5631500400  20150225T000000   180000         2       1.00          770   \n",
        "3  2487200875  20141209T000000   604000         4       3.00         1960   \n",
        "4  1954400510  20150218T000000   510000         3       2.00         1680   \n",
        "5  7237550310  20140512T000000  1225000         4       4.50         5420   \n",
        "6  1321400060  20140627T000000   257500         3       2.25         1715   \n",
        "7  2008000270  20150115T000000   291850         3       1.50         1060   \n",
        "8  2414600126  20150415T000000   229500         3       1.00         1780   \n",
        "9  3793500160  20150312T000000   323000         3       2.50         1890   \n",
        "\n",
        "   sqft_lot  floors  waterfront  view     ...      grade  sqft_above  \\\n",
        "0      5650       1           0     0     ...          7        1180   \n",
        "1      7242       2           0     0     ...          7        2170   \n",
        "2     10000       1           0     0     ...          6         770   \n",
        "3      5000       1           0     0     ...          7        1050   \n",
        "4      8080       1           0     0     ...          8        1680   \n",
        "5    101930       1           0     0     ...         11        3890   \n",
        "6      6819       2           0     0     ...          7        1715   \n",
        "7      9711       1           0     0     ...          7        1060   \n",
        "8      7470       1           0     0     ...          7        1050   \n",
        "9      6560       2           0     0     ...          7        1890   \n",
        "\n",
        "   sqft_basement  yr_built  yr_renovated  zipcode      lat     long  \\\n",
        "0              0      1955             0    98178  47.5112 -122.257   \n",
        "1            400      1951          1991    98125  47.7210 -122.319   \n",
        "2              0      1933             0    98028  47.7379 -122.233   \n",
        "3            910      1965             0    98136  47.5208 -122.393   \n",
        "4              0      1987             0    98074  47.6168 -122.045   \n",
        "5           1530      2001             0    98053  47.6561 -122.005   \n",
        "6              0      1995             0    98003  47.3097 -122.327   \n",
        "7              0      1963             0    98198  47.4095 -122.315   \n",
        "8            730      1960             0    98146  47.5123 -122.337   \n",
        "9              0      2003             0    98038  47.3684 -122.031   \n",
        "\n",
        "   sqft_living15  sqft_lot15  \n",
        "0           1340        5650  \n",
        "1           1690        7639  \n",
        "2           2720        8062  \n",
        "3           1360        5000  \n",
        "4           1800        7503  \n",
        "5           4760      101930  \n",
        "6           2238        6819  \n",
        "7           1650        9711  \n",
        "8           1780        8113  \n",
        "9           2390        7570  \n",
        "\n",
        "[10 rows x 21 columns]\n"
       ]
      }
     ],
     "prompt_number": 7
    },
    {
     "cell_type": "code",
     "collapsed": false,
     "input": [
      "print data.shape"
     ],
     "language": "python",
     "metadata": {},
     "outputs": [
      {
       "output_type": "stream",
       "stream": "stdout",
       "text": [
        "(17384, 21)\n"
       ]
      }
     ],
     "prompt_number": 8
    },
    {
     "cell_type": "heading",
     "level": 2,
     "metadata": {},
     "source": [
      "Adding columns that may help our prediction"
     ]
    },
    {
     "cell_type": "code",
     "collapsed": false,
     "input": [
      "data['bed_bath_rooms'] = data['bedrooms'] * data['bathrooms']\n",
      "data['bedrooms_squared'] = data['bedrooms'] * data['bedrooms']\n",
      "data['log_sqft_living'] = np.log(data['sqft_living'])"
     ],
     "language": "python",
     "metadata": {},
     "outputs": [],
     "prompt_number": 9
    },
    {
     "cell_type": "code",
     "collapsed": false,
     "input": [
      "print data.shape\n",
      "print\n",
      "print data.head()"
     ],
     "language": "python",
     "metadata": {},
     "outputs": [
      {
       "output_type": "stream",
       "stream": "stdout",
       "text": [
        "(17384, 24)\n",
        "\n",
        "           id             date   price  bedrooms  bathrooms  sqft_living  \\\n",
        "0  7129300520  20141013T000000  221900         3       1.00         1180   \n",
        "1  6414100192  20141209T000000  538000         3       2.25         2570   \n",
        "2  5631500400  20150225T000000  180000         2       1.00          770   \n",
        "3  2487200875  20141209T000000  604000         4       3.00         1960   \n",
        "4  1954400510  20150218T000000  510000         3       2.00         1680   \n",
        "\n",
        "   sqft_lot  floors  waterfront  view       ...         yr_built  \\\n",
        "0      5650       1           0     0       ...             1955   \n",
        "1      7242       2           0     0       ...             1951   \n",
        "2     10000       1           0     0       ...             1933   \n",
        "3      5000       1           0     0       ...             1965   \n",
        "4      8080       1           0     0       ...             1987   \n",
        "\n",
        "   yr_renovated  zipcode      lat     long  sqft_living15  sqft_lot15  \\\n",
        "0             0    98178  47.5112 -122.257           1340        5650   \n",
        "1          1991    98125  47.7210 -122.319           1690        7639   \n",
        "2             0    98028  47.7379 -122.233           2720        8062   \n",
        "3             0    98136  47.5208 -122.393           1360        5000   \n",
        "4             0    98074  47.6168 -122.045           1800        7503   \n",
        "\n",
        "   bed_bath_rooms  bedrooms_squared  log_sqft_living  \n",
        "0            3.00                 9         7.073270  \n",
        "1            6.75                 9         7.851661  \n",
        "2            2.00                 4         6.646391  \n",
        "3           12.00                16         7.580700  \n",
        "4            6.00                 9         7.426549  \n",
        "\n",
        "[5 rows x 24 columns]\n"
       ]
      }
     ],
     "prompt_number": 10
    },
    {
     "cell_type": "code",
     "collapsed": false,
     "input": [
      "#Let's select out our chosen explanatory variables to make a new DataFrame\n",
      "pred = data[['bed_bath_rooms', 'log_sqft_living', 'condition', 'grade', 'floors', 'bedrooms_squared', 'view']]"
     ],
     "language": "python",
     "metadata": {},
     "outputs": [],
     "prompt_number": 11
    },
    {
     "cell_type": "code",
     "collapsed": false,
     "input": [
      "target = data[['price']]"
     ],
     "language": "python",
     "metadata": {},
     "outputs": [],
     "prompt_number": 13
    },
    {
     "cell_type": "heading",
     "level": 2,
     "metadata": {},
     "source": [
      "Multiple Regression"
     ]
    },
    {
     "cell_type": "code",
     "collapsed": false,
     "input": [
      "LinReg = LinearRegression()"
     ],
     "language": "python",
     "metadata": {},
     "outputs": [],
     "prompt_number": 15
    },
    {
     "cell_type": "code",
     "collapsed": false,
     "input": [
      "model = LinReg.fit(pred, target)"
     ],
     "language": "python",
     "metadata": {},
     "outputs": [],
     "prompt_number": 16
    },
    {
     "cell_type": "code",
     "collapsed": false,
     "input": [
      "model.coef_"
     ],
     "language": "python",
     "metadata": {},
     "outputs": [
      {
       "metadata": {},
       "output_type": "pyout",
       "prompt_number": 17,
       "text": [
        "array([[  20135.09055593,  120032.66750082,   59237.58954799,\n",
        "         144002.02126889,  -37068.89407323,   -6461.47782353,\n",
        "         102512.04644325]])"
       ]
      }
     ],
     "prompt_number": 17
    },
    {
     "cell_type": "code",
     "collapsed": false,
     "input": [
      "#read in the test data\n",
      "test_data = pd.read_csv('kc_house_test_data.csv')"
     ],
     "language": "python",
     "metadata": {},
     "outputs": [],
     "prompt_number": 18
    },
    {
     "cell_type": "code",
     "collapsed": false,
     "input": [
      "print test_data.shape"
     ],
     "language": "python",
     "metadata": {},
     "outputs": [
      {
       "output_type": "stream",
       "stream": "stdout",
       "text": [
        "(4229, 21)\n"
       ]
      }
     ],
     "prompt_number": 21
    },
    {
     "cell_type": "code",
     "collapsed": false,
     "input": [
      "test_data['bed_bath_rooms'] = test_data['bedrooms'] * test_data['bathrooms']\n",
      "test_data['bedrooms_squared'] = test_data['bedrooms'] * test_data['bedrooms']\n",
      "test_data['log_sqft_living'] = np.log(test_data['sqft_living'])"
     ],
     "language": "python",
     "metadata": {},
     "outputs": [],
     "prompt_number": 22
    },
    {
     "cell_type": "code",
     "collapsed": false,
     "input": [
      "#Let's select out our chosen explanatory variables to make a new DataFrame\n",
      "pred_test = test_data[['bed_bath_rooms', 'log_sqft_living', 'condition', 'grade', 'floors', 'bedrooms_squared', 'view']]\n",
      "target_test = test_data[['price']]"
     ],
     "language": "python",
     "metadata": {},
     "outputs": [],
     "prompt_number": 23
    },
    {
     "cell_type": "code",
     "collapsed": false,
     "input": [
      "predictions = model.predict(pred_test)"
     ],
     "language": "python",
     "metadata": {},
     "outputs": [],
     "prompt_number": 24
    },
    {
     "cell_type": "code",
     "collapsed": false,
     "input": [
      "print predictions[0]"
     ],
     "language": "python",
     "metadata": {},
     "outputs": [
      {
       "output_type": "stream",
       "stream": "stdout",
       "text": [
        "[ 351302.45181576]\n"
       ]
      }
     ],
     "prompt_number": 26
    },
    {
     "cell_type": "code",
     "collapsed": false,
     "input": [
      "model.score(pred, target)"
     ],
     "language": "python",
     "metadata": {},
     "outputs": [
      {
       "metadata": {},
       "output_type": "pyout",
       "prompt_number": 25,
       "text": [
        "0.54403939933399692"
       ]
      }
     ],
     "prompt_number": 25
    },
    {
     "cell_type": "code",
     "collapsed": false,
     "input": [],
     "language": "python",
     "metadata": {},
     "outputs": []
    }
   ],
   "metadata": {}
  }
 ]
}