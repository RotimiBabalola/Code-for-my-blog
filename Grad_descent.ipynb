{
 "metadata": {
  "name": "",
  "signature": "sha256:d8b5808e3bcef8c67af8d7d96654466f399835737f95e74558b865f8c7512b35"
 },
 "nbformat": 3,
 "nbformat_minor": 0,
 "worksheets": [
  {
   "cells": [
    {
     "cell_type": "heading",
     "level": 3,
     "metadata": {},
     "source": [
      "IPython notebook for plotting gradient descent"
     ]
    },
    {
     "cell_type": "code",
     "collapsed": false,
     "input": [
      "import sframe"
     ],
     "language": "python",
     "metadata": {},
     "outputs": [],
     "prompt_number": 1
    },
    {
     "cell_type": "code",
     "collapsed": false,
     "input": [
      "import numpy as np"
     ],
     "language": "python",
     "metadata": {},
     "outputs": [],
     "prompt_number": 2
    },
    {
     "cell_type": "code",
     "collapsed": false,
     "input": [
      "from math import sqrt"
     ],
     "language": "python",
     "metadata": {},
     "outputs": [],
     "prompt_number": 3
    },
    {
     "cell_type": "code",
     "collapsed": false,
     "input": [
      "cd 'C:\\Users\\Rolex James\\Documents\\MOOCs\\ML Univ of Washington\\Regression\\Resources'"
     ],
     "language": "python",
     "metadata": {},
     "outputs": [
      {
       "output_type": "stream",
       "stream": "stdout",
       "text": [
        "C:\\Users\\Rolex James\\Documents\\MOOCs\\ML Univ of Washington\\Regression\\Resources\n"
       ]
      }
     ],
     "prompt_number": 4
    },
    {
     "cell_type": "code",
     "collapsed": false,
     "input": [
      "sales = sframe.SFrame('kc_house_data.gl/')"
     ],
     "language": "python",
     "metadata": {},
     "outputs": [
      {
       "output_type": "stream",
       "stream": "stderr",
       "text": [
        "[INFO] SFrame v1.8.3 started. Logging C:\\Users\\ROLEXJ~1\\AppData\\Local\\Temp\\sframe_server_1460643750.log.0\n"
       ]
      }
     ],
     "prompt_number": 5
    },
    {
     "cell_type": "heading",
     "level": 3,
     "metadata": {},
     "source": [
      "Function to convert sframe to numpy array"
     ]
    },
    {
     "cell_type": "code",
     "collapsed": false,
     "input": [
      "def get_numpy_data(data_sframe, features, output):\n",
      "    data_sframe['constant'] = 1 #add a constant column to the SFrame\n",
      "    features = ['constant'] + features\n",
      "    features_sframe = data_sframe[features] #select out features specified by feature list\n",
      "    #convert features_sframe to a numpy matrix\n",
      "    feature_matrix = features_sframe.to_numpy()\n",
      "    #assign output_sarray to the target output\n",
      "    output_sarray = data_sframe[output]\n",
      "    #convert sarray to a numpy array\n",
      "    output_array = output_sarray.to_numpy()\n",
      "    return (feature_matrix, output_array)"
     ],
     "language": "python",
     "metadata": {},
     "outputs": [],
     "prompt_number": 6
    },
    {
     "cell_type": "heading",
     "level": 3,
     "metadata": {},
     "source": [
      "Define useful functions"
     ]
    },
    {
     "cell_type": "code",
     "collapsed": false,
     "input": [
      "#Function for prediction\n",
      "def predict_outcome(feature_matrix, weights):\n",
      "    #create the predictions vector using np.dot()\n",
      "    predictions = np.dot(feature_matrix, weights)\n",
      "    return (predictions)\n",
      "#Function to compute feature derivative\n",
      "def feature_derivative(errors, feature):\n",
      "    derivative = 2 * np.dot(errors, feature)\n",
      "    return derivative"
     ],
     "language": "python",
     "metadata": {},
     "outputs": [],
     "prompt_number": 7
    },
    {
     "cell_type": "code",
     "collapsed": false,
     "input": [
      "def regression_gradient_descent(feature_matrix, output, initial_weights, step_size, max_iter):\n",
      "    converged = False\n",
      "    weights = np.array(initial_weights) #make sure its a numpy array\n",
      "    i = 0\n",
      "    all_weights = np.zeros((max_iter, weights.shape[0]))\n",
      "    while max_iter > 0:\n",
      "        #compute the predictions\n",
      "        predictions = predict_outcome(feature_matrix, weights)\n",
      "        #compute the errors\n",
      "        errors = predictions - output\n",
      "       #initialize gradient_sum_squares\n",
      "        gradient_sum_squares = 0\n",
      "       #while we haven't reached max iterations, update each features weight\n",
      "        for j in range(len(weights)):\n",
      "            derivative = feature_derivative(errors, feature_matrix[:,j])\n",
      "            gradient_sum_squares = gradient_sum_squares + (derivative * derivative)\n",
      "            weights[j] = weights[j] - step_size * derivative\n",
      "            #Fill all weights array\n",
      "            all_weights[i, j] = weights[j]\n",
      "        #compute gradient magnitude\n",
      "        gradient_magnitude = sqrt(gradient_sum_squares)\n",
      "        max_iter = max_iter - 1\n",
      "        i = i + 1\n",
      "        #Optional just to see 'what's under the hood\n",
      "        #print gradient_magnitude\n",
      "    return (weights, all_weights)"
     ],
     "language": "python",
     "metadata": {},
     "outputs": [],
     "prompt_number": 8
    },
    {
     "cell_type": "code",
     "collapsed": false,
     "input": [
      "train_data, test_data = sales.random_split(.8, seed=0)"
     ],
     "language": "python",
     "metadata": {},
     "outputs": [],
     "prompt_number": 9
    },
    {
     "cell_type": "code",
     "collapsed": false,
     "input": [
      "simple_features = ['sqft_living']\n",
      "my_output= 'price'\n",
      "(simple_feature_matrix, output) = get_numpy_data(train_data, simple_features, my_output)\n",
      "initial_weights = np.zeros(2)\n",
      "step_size = 7e-12\n",
      "max_iter = 2000"
     ],
     "language": "python",
     "metadata": {},
     "outputs": [],
     "prompt_number": 10
    },
    {
     "cell_type": "code",
     "collapsed": false,
     "input": [
      "my_weights, all_my_weights = regression_gradient_descent(simple_feature_matrix, output, initial_weights, step_size, max_iter)"
     ],
     "language": "python",
     "metadata": {},
     "outputs": [],
     "prompt_number": 11
    },
    {
     "cell_type": "code",
     "collapsed": false,
     "input": [
      "my_weights"
     ],
     "language": "python",
     "metadata": {},
     "outputs": [
      {
       "metadata": {},
       "output_type": "pyout",
       "prompt_number": 12,
       "text": [
        "array([  -3.65756961,  263.02577322])"
       ]
      }
     ],
     "prompt_number": 12
    },
    {
     "cell_type": "code",
     "collapsed": false,
     "input": [
      "all_my_weights.shape"
     ],
     "language": "python",
     "metadata": {},
     "outputs": [
      {
       "metadata": {},
       "output_type": "pyout",
       "prompt_number": 13,
       "text": [
        "(2000L, 2L)"
       ]
      }
     ],
     "prompt_number": 13
    },
    {
     "cell_type": "code",
     "collapsed": false,
     "input": [
      "all_my_weights"
     ],
     "language": "python",
     "metadata": {},
     "outputs": [
      {
       "metadata": {},
       "output_type": "pyout",
       "prompt_number": 14,
       "text": [
        "array([[  1.31268893e-01,   3.31327596e+02],\n",
        "       [  9.48100287e-02,   2.45286942e+02],\n",
        "       [  1.01907470e-01,   2.67630371e+02],\n",
        "       ..., \n",
        "       [ -3.65380649e+00,   2.63025772e+02],\n",
        "       [ -3.65568805e+00,   2.63025772e+02],\n",
        "       [ -3.65756961e+00,   2.63025773e+02]])"
       ]
      }
     ],
     "prompt_number": 14
    },
    {
     "cell_type": "heading",
     "level": 3,
     "metadata": {},
     "source": [
      "Function to compute RSS"
     ]
    },
    {
     "cell_type": "code",
     "collapsed": false,
     "input": [
      "def get_RSS(feature_matrix, weights, output):\n",
      "    predictions = predict_outcome(feature_matrix, weights)\n",
      "    resid = output - predictions\n",
      "    temp = resid**2\n",
      "    RSS = sum(temp)\n",
      "    return RSS"
     ],
     "language": "python",
     "metadata": {},
     "outputs": [],
     "prompt_number": 15
    },
    {
     "cell_type": "code",
     "collapsed": false,
     "input": [
      "RSS_list = []\n",
      "#Compute RSS for each row of weights in all_weights_array\n",
      "for i in range(len(all_my_weights)):\n",
      "    temp_RSS = get_RSS(simple_feature_matrix, all_my_weights[i], output)\n",
      "    RSS_list.append(temp_RSS)"
     ],
     "language": "python",
     "metadata": {},
     "outputs": [],
     "prompt_number": 16
    },
    {
     "cell_type": "code",
     "collapsed": false,
     "input": [
      "import matplotlib.pyplot as plt"
     ],
     "language": "python",
     "metadata": {},
     "outputs": [],
     "prompt_number": 21
    },
    {
     "cell_type": "code",
     "collapsed": false,
     "input": [
      "from mpl_toolkits.mplot3d import axes3d"
     ],
     "language": "python",
     "metadata": {},
     "outputs": [],
     "prompt_number": 25
    },
    {
     "cell_type": "code",
     "collapsed": false,
     "input": [
      "xi = np.linspace(min(all_my_weights[:,0]), max(all_my_weights[:,0]))\n",
      "yi = np.linspace(min(all_my_weights[:,1]), max(all_my_weights[:,1]))\n",
      "z = np.array(RSS_list)\n",
      "\n",
      "X, Y = np.meshgrid(xi, yi)\n",
      "Z = griddata(all_my_weights[:,0], all_my_weights[:,1], z, xi, yi, interp='linear')\n",
      "\n"
     ],
     "language": "python",
     "metadata": {},
     "outputs": [],
     "prompt_number": 31
    },
    {
     "cell_type": "code",
     "collapsed": false,
     "input": [
      "fig = plt.figure()\n",
      "ax = fig.gca(projection='3d')\n",
      "ax.plot_surface(X, Y, Z)"
     ],
     "language": "python",
     "metadata": {},
     "outputs": [
      {
       "metadata": {},
       "output_type": "pyout",
       "prompt_number": 32,
       "text": [
        "<mpl_toolkits.mplot3d.art3d.Poly3DCollection at 0x17cdcf98>"
       ]
      },
      {
       "metadata": {},
       "output_type": "display_data",
       "png": "[encoded data removed]",
       "text": [
        "<matplotlib.figure.Figure at 0x17cdca58>"
       ]
      }
     ],
     "prompt_number": 32
    },
    {
     "cell_type": "code",
     "collapsed": false,
     "input": [],
     "language": "python",
     "metadata": {},
     "outputs": []
    }
   ],
   "metadata": {}
  }
 ]
}