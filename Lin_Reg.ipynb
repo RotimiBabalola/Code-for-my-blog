{
 "metadata": {
  "name": "",
  "signature": "sha256:b56f3548baee0e3acca3adea8c57e430906ebf7aacf6399d8fa893f9c4edc489"
 },
 "nbformat": 3,
 "nbformat_minor": 0,
 "worksheets": [
  {
   "cells": [
    {
     "cell_type": "code",
     "collapsed": false,
     "input": [
      "cd 'C:\\Users\\Rolex James\\Documents\\Blog posts'"
     ],
     "language": "python",
     "metadata": {},
     "outputs": [
      {
       "output_type": "stream",
       "stream": "stdout",
       "text": [
        "C:\\Users\\Rolex James\\Documents\\Blog posts\n"
       ]
      }
     ],
     "prompt_number": 1
    },
    {
     "cell_type": "code",
     "collapsed": false,
     "input": [
      "#To use a libary in Python, we use the 'import' statement \n",
      "import pandas as pd #This statement allows us to use pd instead of pandas for the rest of program\n",
      "import statsmodels.api as sm #Same as the previous line\n",
      "import numpy as np, statsmodels.formula.api as smf\n",
      "import matplotlib.pyplot as plt #For visualization\n",
      "%matplotlib inline"
     ],
     "language": "python",
     "metadata": {},
     "outputs": [],
     "prompt_number": 2
    },
    {
     "cell_type": "code",
     "collapsed": false,
     "input": [
      "#Load the dataset using pandas' read_csv method\n",
      "data = pd.read_csv('kc_house_train_data.csv')"
     ],
     "language": "python",
     "metadata": {},
     "outputs": [],
     "prompt_number": 3
    },
    {
     "cell_type": "code",
     "collapsed": false,
     "input": [
      "#The data we will use for our prediction is in the DataFrame object 'data'\n",
      "#Let's view the first few rows of the data using the head() method of pandas\n",
      "print data.head()"
     ],
     "language": "python",
     "metadata": {},
     "outputs": [
      {
       "output_type": "stream",
       "stream": "stdout",
       "text": [
        "           id             date   price  bedrooms  bathrooms  sqft_living  \\\n",
        "0  7129300520  20141013T000000  221900         3       1.00         1180   \n",
        "1  6414100192  20141209T000000  538000         3       2.25         2570   \n",
        "2  5631500400  20150225T000000  180000         2       1.00          770   \n",
        "3  2487200875  20141209T000000  604000         4       3.00         1960   \n",
        "4  1954400510  20150218T000000  510000         3       2.00         1680   \n",
        "\n",
        "   sqft_lot  floors  waterfront  view     ...      grade  sqft_above  \\\n",
        "0      5650       1           0     0     ...          7        1180   \n",
        "1      7242       2           0     0     ...          7        2170   \n",
        "2     10000       1           0     0     ...          6         770   \n",
        "3      5000       1           0     0     ...          7        1050   \n",
        "4      8080       1           0     0     ...          8        1680   \n",
        "\n",
        "   sqft_basement  yr_built  yr_renovated  zipcode      lat     long  \\\n",
        "0              0      1955             0    98178  47.5112 -122.257   \n",
        "1            400      1951          1991    98125  47.7210 -122.319   \n",
        "2              0      1933             0    98028  47.7379 -122.233   \n",
        "3            910      1965             0    98136  47.5208 -122.393   \n",
        "4              0      1987             0    98074  47.6168 -122.045   \n",
        "\n",
        "   sqft_living15  sqft_lot15  \n",
        "0           1340        5650  \n",
        "1           1690        7639  \n",
        "2           2720        8062  \n",
        "3           1360        5000  \n",
        "4           1800        7503  \n",
        "\n",
        "[5 rows x 21 columns]\n"
       ]
      }
     ],
     "prompt_number": 4
    },
    {
     "cell_type": "code",
     "collapsed": false,
     "input": [
      "#We can also see how many rows and columns the dataset has using the shape method\n",
      "print data.shape"
     ],
     "language": "python",
     "metadata": {},
     "outputs": [
      {
       "output_type": "stream",
       "stream": "stdout",
       "text": [
        "(17384, 21)\n"
       ]
      }
     ],
     "prompt_number": 5
    },
    {
     "cell_type": "code",
     "collapsed": false,
     "input": [
      "plt.plot(data['sqft_living'], data['price'], 'bo')\n",
      "plt.xlabel('Square feet')\n",
      "plt.ylabel('Price in dollars')"
     ],
     "language": "python",
     "metadata": {},
     "outputs": [
      {
       "metadata": {},
       "output_type": "pyout",
       "prompt_number": 6,
       "text": [
        "<matplotlib.text.Text at 0xbca9a90>"
       ]
      },
      {
       "metadata": {},
       "output_type": "display_data",
       "png": "[encoded data removed]",
       "text": [
        "<matplotlib.figure.Figure at 0xbb5a748>"
       ]
      }
     ],
     "prompt_number": 6
    },
    {
     "cell_type": "heading",
     "level": 6,
     "metadata": {},
     "source": [
      "#So we have 17384 rows and 21 columns in our dataset"
     ]
    },
    {
     "cell_type": "heading",
     "level": 1,
     "metadata": {},
     "source": [
      "Performing Linear Regression"
     ]
    },
    {
     "cell_type": "code",
     "collapsed": false,
     "input": [
      "#Let's perform linear regression in just one line, using the ols method from the \n",
      "#statsmodels.formula.api library\n",
      "model = smf.ols('price ~ sqft_living', data=data).fit()\n",
      "print model.summary()"
     ],
     "language": "python",
     "metadata": {},
     "outputs": [
      {
       "output_type": "stream",
       "stream": "stdout",
       "text": [
        "                            OLS Regression Results                            \n",
        "==============================================================================\n",
        "Dep. Variable:                  price   R-squared:                       0.494\n",
        "Model:                            OLS   Adj. R-squared:                  0.494\n",
        "Method:                 Least Squares   F-statistic:                 1.698e+04\n",
        "Date:                Fri, 15 Apr 2016   Prob (F-statistic):               0.00\n",
        "Time:                        14:17:01   Log-Likelihood:            -2.4161e+05\n",
        "No. Observations:               17384   AIC:                         4.832e+05\n",
        "Df Residuals:                   17382   BIC:                         4.832e+05\n",
        "Df Model:                           1                                         \n",
        "Covariance Type:            nonrobust                                         \n",
        "===============================================================================\n",
        "                  coef    std err          t      P>|t|      [95.0% Conf. Int.]\n",
        "-------------------------------------------------------------------------------\n",
        "Intercept   -4.712e+04   4923.344     -9.570      0.000     -5.68e+04 -3.75e+04\n",
        "sqft_living   281.9588      2.164    130.292      0.000       277.717   286.201\n",
        "==============================================================================\n",
        "Omnibus:                    11826.248   Durbin-Watson:                   1.996\n",
        "Prob(Omnibus):                  0.000   Jarque-Bera (JB):           416980.854\n",
        "Skew:                           2.799   Prob(JB):                         0.00\n",
        "Kurtosis:                      26.331   Cond. No.                     5.62e+03\n",
        "==============================================================================\n",
        "\n",
        "Warnings:\n",
        "[1] Standard Errors assume that the covariance matrix of the errors is correctly specified.\n",
        "[2] The condition number is large, 5.62e+03. This might indicate that there are\n",
        "strong multicollinearity or other numerical problems.\n"
       ]
      }
     ],
     "prompt_number": 8
    },
    {
     "cell_type": "code",
     "collapsed": false,
     "input": [
      "model_bed = smf.ols('price ~ bedrooms', data=data).fit()\n",
      "print model_bed.summary()"
     ],
     "language": "python",
     "metadata": {},
     "outputs": [
      {
       "output_type": "stream",
       "stream": "stdout",
       "text": [
        "                            OLS Regression Results                            \n",
        "==============================================================================\n",
        "Dep. Variable:                  price   R-squared:                       0.098\n",
        "Model:                            OLS   Adj. R-squared:                  0.098\n",
        "Method:                 Least Squares   F-statistic:                     1886.\n",
        "Date:                Fri, 15 Apr 2016   Prob (F-statistic):               0.00\n",
        "Time:                        14:18:47   Log-Likelihood:            -2.4664e+05\n",
        "No. Observations:               17384   AIC:                         4.933e+05\n",
        "Df Residuals:                   17382   BIC:                         4.933e+05\n",
        "Df Model:                           1                                         \n",
        "Covariance Type:            nonrobust                                         \n",
        "==============================================================================\n",
        "                 coef    std err          t      P>|t|      [95.0% Conf. Int.]\n",
        "------------------------------------------------------------------------------\n",
        "Intercept   1.095e+05   1.03e+04     10.679      0.000      8.94e+04   1.3e+05\n",
        "bedrooms    1.276e+05   2938.132     43.425      0.000      1.22e+05  1.33e+05\n",
        "==============================================================================\n",
        "Omnibus:                    15367.527   Durbin-Watson:                   1.968\n",
        "Prob(Omnibus):                  0.000   Jarque-Bera (JB):           949892.941\n",
        "Skew:                           3.998   Prob(JB):                         0.00\n",
        "Kurtosis:                      38.319   Cond. No.                         14.5\n",
        "==============================================================================\n",
        "\n",
        "Warnings:\n",
        "[1] Standard Errors assume that the covariance matrix of the errors is correctly specified.\n"
       ]
      }
     ],
     "prompt_number": 9
    },
    {
     "cell_type": "code",
     "collapsed": false,
     "input": [
      "model_both = smf.ols('price ~ sqft_living + bedrooms', data=data).fit()\n",
      "print model_both.summary()"
     ],
     "language": "python",
     "metadata": {},
     "outputs": [
      {
       "output_type": "stream",
       "stream": "stdout",
       "text": [
        "                            OLS Regression Results                            \n",
        "==============================================================================\n",
        "Dep. Variable:                  price   R-squared:                       0.510\n",
        "Model:                            OLS   Adj. R-squared:                  0.510\n",
        "Method:                 Least Squares   F-statistic:                     9055.\n",
        "Date:                Fri, 15 Apr 2016   Prob (F-statistic):               0.00\n",
        "Time:                        14:19:35   Log-Likelihood:            -2.4133e+05\n",
        "No. Observations:               17384   AIC:                         4.827e+05\n",
        "Df Residuals:                   17381   BIC:                         4.827e+05\n",
        "Df Model:                           2                                         \n",
        "Covariance Type:            nonrobust                                         \n",
        "===============================================================================\n",
        "                  coef    std err          t      P>|t|      [95.0% Conf. Int.]\n",
        "-------------------------------------------------------------------------------\n",
        "Intercept    9.184e+04   7554.858     12.156      0.000       7.7e+04  1.07e+05\n",
        "sqft_living   319.3536      2.640    120.983      0.000       314.180   324.528\n",
        "bedrooms    -6.433e+04   2683.807    -23.968      0.000     -6.96e+04 -5.91e+04\n",
        "==============================================================================\n",
        "Omnibus:                    11357.043   Durbin-Watson:                   1.998\n",
        "Prob(Omnibus):                  0.000   Jarque-Bera (JB):           363972.837\n",
        "Skew:                           2.665   Prob(JB):                         0.00\n",
        "Kurtosis:                      24.773   Cond. No.                     9.09e+03\n",
        "==============================================================================\n",
        "\n",
        "Warnings:\n",
        "[1] Standard Errors assume that the covariance matrix of the errors is correctly specified.\n",
        "[2] The condition number is large, 9.09e+03. This might indicate that there are\n",
        "strong multicollinearity or other numerical problems.\n"
       ]
      }
     ],
     "prompt_number": 10
    },
    {
     "cell_type": "heading",
     "level": 1,
     "metadata": {},
     "source": [
      "Plotting the regression line"
     ]
    },
    {
     "cell_type": "code",
     "collapsed": false,
     "input": [
      "#We will use the values of the sqft_living and the predicted price of our model to plot our regression\n",
      "#line\n",
      "x = sm.add_constant(data['sqft_living'])\n",
      "x = np.array(x) #Coerce x to a numpy array\n",
      "\n",
      "model_pred = sm.OLS(np.array(data['price']), x)\n",
      "fitted = model_pred.fit()\n",
      "\n",
      "#This gives us an array of 50 equally spaced values between the minimum and maximum values of \n",
      "#sqft_living in the dataset\n",
      "x_pred = np.linspace(x.min(), x.max(), 50)\n",
      "x_pred2 = sm.add_constant(x_pred)\n",
      "#Make predictions\n",
      "y_pred = fitted.predict(x_pred2)\n",
      "\n",
      "plt.plot(data['sqft_living'], data['price'], 'bo')\n",
      "#Plot regression line\n",
      "plt.plot(x_pred2, y_pred, 'k-', linewidth=2)\n",
      "plt.xlabel('Square feet')\n",
      "plt.ylabel('Price in dollars')"
     ],
     "language": "python",
     "metadata": {},
     "outputs": [
      {
       "metadata": {},
       "output_type": "pyout",
       "prompt_number": 11,
       "text": [
        "<matplotlib.text.Text at 0xec93dd8>"
       ]
      },
      {
       "metadata": {},
       "output_type": "display_data",
       "png": "[encoded data removed]",
       "text": [
        "<matplotlib.figure.Figure at 0xec91240>"
       ]
      }
     ],
     "prompt_number": 11
    },
    {
     "cell_type": "code",
     "collapsed": false,
     "input": [
      "foo = np.square(model.resid)\n",
      "print np.sum(foo)"
     ],
     "language": "python",
     "metadata": {},
     "outputs": [
      {
       "output_type": "stream",
       "stream": "stdout",
       "text": [
        "1.20191835418e+15\n"
       ]
      }
     ],
     "prompt_number": 9
    },
    {
     "cell_type": "code",
     "collapsed": false,
     "input": [
      "#Load test data\n",
      "testSales = pd.read_csv('kc_house_test_data.csv')"
     ],
     "language": "python",
     "metadata": {},
     "outputs": [],
     "prompt_number": 14
    },
    {
     "cell_type": "code",
     "collapsed": false,
     "input": [
      "test_preds = model.predict(testSales)"
     ],
     "language": "python",
     "metadata": {},
     "outputs": [],
     "prompt_number": 15
    },
    {
     "cell_type": "code",
     "collapsed": false,
     "input": [
      "#Compute RSS on test data\n",
      "diff = test_preds - testSales['price']\n",
      "sqDiff = np.square(diff)\n",
      "RSS = np.sum(sqDiff)\n",
      "print RSS"
     ],
     "language": "python",
     "metadata": {},
     "outputs": [
      {
       "output_type": "stream",
       "stream": "stdout",
       "text": [
        "2.75402933618e+14\n"
       ]
      }
     ],
     "prompt_number": 16
    },
    {
     "cell_type": "code",
     "collapsed": false,
     "input": [],
     "language": "python",
     "metadata": {},
     "outputs": []
    }
   ],
   "metadata": {}
  }
 ]
}